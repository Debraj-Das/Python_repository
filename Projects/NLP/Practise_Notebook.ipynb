{
 "cells": [
  {
   "attachments": {},
   "cell_type": "markdown",
   "metadata": {},
   "source": [
    "## First note Book use\n",
    "## It is good to use it because you not need to comments all of things"
   ]
  },
  {
   "attachments": {},
   "cell_type": "markdown",
   "metadata": {},
   "source": [
    "First import the re module for use regex expression\n",
    "some of string for check for the regex working or not\n",
    "nice to use the raw string for regex"
   ]
  },
  {
   "cell_type": "code",
   "execution_count": 6,
   "metadata": {},
   "outputs": [
    {
     "name": "stdout",
     "output_type": "stream",
     "text": [
      "My phone number is 408-555-1234 \n",
      "and my friend phone number is 4085554321 \n",
      "and my other friend phone number is (408)-5551111 \n",
      "and my other friend phone number is 408455-2222 \n",
      "\n"
     ]
    }
   ],
   "source": [
    "import re\n",
    "\n",
    "s = \"My phone number is 408-555-1234 \\n\\\n",
    "and my friend phone number is 4085554321 \\n\\\n",
    "and my other friend phone number is (408)-5551111 \\n\\\n",
    "and my other friend phone number is 408455-2222 \\n\"\n",
    "            \n",
    "print(s)"
   ]
  },
  {
   "cell_type": "code",
   "execution_count": 7,
   "metadata": {},
   "outputs": [
    {
     "name": "stdout",
     "output_type": "stream",
     "text": [
      "408-555-1234\n",
      "4085554321\n",
      "(408)-5551111\n",
      "408455-2222\n"
     ]
    }
   ],
   "source": [
    "pattern = r\"\\d{10}|\\(?\\d{3}\\)?-?\\d{3}-?\\d{4}\"\n",
    "phone_numbers = re.findall(pattern, s)\n",
    "\n",
    "for phone in phone_numbers:\n",
    "    print(phone)\n"
   ]
  },
  {
   "attachments": {},
   "cell_type": "markdown",
   "metadata": {},
   "source": [
    "Exercise 1"
   ]
  },
  {
   "cell_type": "code",
   "execution_count": 9,
   "metadata": {},
   "outputs": [
    {
     "name": "stdout",
     "output_type": "stream",
     "text": [
      "https://twitter.com/elonmusk\n",
      "https://twitter.com/teslarati\n",
      "https://twitter.com/dummy_tesla\n",
      "https://twitter.com/dummy_2_tesla\n"
     ]
    }
   ],
   "source": [
    "text = '''\n",
    "Follow our leader Elon musk on twitter here: https://twitter.com/elonmusk, more information \n",
    "on Tesla's products can be found at https://www.tesla.com/. Also here are leading influencers \n",
    "for tesla related news,\n",
    "https://twitter.com/teslarati\n",
    "https://twitter.com/dummy_tesla\n",
    "https://twitter.com/dummy_2_tesla\n",
    "'''\n",
    "pattern = r\"https://twitter.com/[^\\n][a-z_0-9]+\" # todo: type your regex here\n",
    "\n",
    "twitter_handle = re.findall(pattern, text)\n",
    "\n",
    "for i in twitter_handle:\n",
    "    print(i)"
   ]
  },
  {
   "attachments": {},
   "cell_type": "markdown",
   "metadata": {},
   "source": [
    "Exercise 2"
   ]
  },
  {
   "cell_type": "code",
   "execution_count": 10,
   "metadata": {},
   "outputs": [
    {
     "name": "stdout",
     "output_type": "stream",
     "text": [
      "Credit Risk\n",
      "Supply Risk\n"
     ]
    }
   ],
   "source": [
    "text = '''\n",
    "Concentration of Risk: Credit Risk\n",
    "Financial instruments that potentially subject us to a concentration of credit risk consist of cash, cash equivalents, marketable securities,\n",
    "restricted cash, accounts receivable, convertible note hedges, and interest rate swaps. Our cash balances are primarily invested in money market funds\n",
    "or on deposit at high credit quality financial institutions in the U.S. These deposits are typically in excess of insured limits. As of September 30, 2021\n",
    "and December 31, 2020, no entity represented 10% or more of our total accounts receivable balance. The risk of concentration for our convertible note\n",
    "hedges and interest rate swaps is mitigated by transacting with several highly-rated multinational banks.\n",
    "Concentration of Risk: Supply Risk\n",
    "We are dependent on our suppliers, including single source suppliers, and the inability of these suppliers to deliver necessary components of our\n",
    "products in a timely manner at prices, quality levels and volumes acceptable to us, or our inability to efficiently manage these components from these\n",
    "suppliers, could have a material adverse effect on our business, prospects, financial condition and operating results.\n",
    "'''\n",
    "pattern = r\"Concentration of Risk: ([^\\n]*)\" # todo: type your regex here\n",
    "\n",
    "concenrated = re.findall(pattern, text)\n",
    "\n",
    "for i in concenrated:\n",
    "    print(i)\n"
   ]
  },
  {
   "attachments": {},
   "cell_type": "markdown",
   "metadata": {},
   "source": [
    "Exercise 3"
   ]
  },
  {
   "cell_type": "code",
   "execution_count": 13,
   "metadata": {},
   "outputs": [
    {
     "name": "stdout",
     "output_type": "stream",
     "text": [
      "4.85  Billion\n",
      "8  Billion\n"
     ]
    }
   ],
   "source": [
    "text = '''\n",
    "Tesla's gross cost of operating lease vehicles in FY2021 Q1 was $4.85 billion.\n",
    "BMW's gross cost of operating vehicles in FY2021 S1 was $8 billion.\n",
    "'''\n",
    "\n",
    "pattern = r\"\\$(\\d\\.?[^\\s]*)\" # todo: type your regex here\n",
    "matches = re.findall(pattern, text , flags=re.MULTILINE)\n",
    "for i in matches:\n",
    "    print(i,\" Billion\")\n"
   ]
  },
  {
   "cell_type": "code",
   "execution_count": 1,
   "metadata": {},
   "outputs": [
    {
     "name": "stdout",
     "output_type": "stream",
     "text": [
      "Hello World\n"
     ]
    }
   ],
   "source": [
    "print(\"Hello World\")"
   ]
  }
 ],
 "metadata": {
  "kernelspec": {
   "display_name": ".venv",
   "language": "python",
   "name": "python3"
  },
  "language_info": {
   "codemirror_mode": {
    "name": "ipython",
    "version": 3
   },
   "file_extension": ".py",
   "mimetype": "text/x-python",
   "name": "python",
   "nbconvert_exporter": "python",
   "pygments_lexer": "ipython3",
   "version": "3.11.3"
  },
  "orig_nbformat": 4
 },
 "nbformat": 4,
 "nbformat_minor": 2
}
